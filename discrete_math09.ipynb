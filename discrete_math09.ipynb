{
  "nbformat": 4,
  "nbformat_minor": 0,
  "metadata": {
    "colab": {
      "provenance": [],
      "authorship_tag": "ABX9TyOuZQjpa4PS3vWZbjz0V5XI",
      "include_colab_link": true
    },
    "kernelspec": {
      "name": "python3",
      "display_name": "Python 3"
    },
    "language_info": {
      "name": "python"
    }
  },
  "cells": [
    {
      "cell_type": "markdown",
      "metadata": {
        "id": "view-in-github",
        "colab_type": "text"
      },
      "source": [
        "<a href=\"https://colab.research.google.com/github/mkodk/LectDM/blob/main/discrete_math09.ipynb\" target=\"_parent\"><img src=\"https://colab.research.google.com/assets/colab-badge.svg\" alt=\"Open In Colab\"/></a>"
      ]
    },
    {
      "cell_type": "code",
      "execution_count": 4,
      "metadata": {
        "id": "NnKOGrgnVKXz"
      },
      "outputs": [],
      "source": [
        "graph = {\n",
        "    \"A\" : [\"B\",\"C\"],\n",
        "    \"B\" : [\"D\",\"E\"],\n",
        "    \"C\" : [\"F\"],\n",
        "    \"D\" : [],\n",
        "    \"E\" : [\"F\"],\n",
        "    \"F\" : []\n",
        "    }"
      ]
    },
    {
      "cell_type": "code",
      "source": [
        "def dfs(graph,v,visited):\n",
        "  visited.add(v)\n",
        "  print(v,end=\" \")\n",
        "  for neighbor in graph[v]:\n",
        "    if neighbor not in visited:\n",
        "      dfs(graph,neighbor,visited)\n",
        "\n",
        "print(\"DFS\")\n",
        "dfs(graph,\"A\",set())"
      ],
      "metadata": {
        "colab": {
          "base_uri": "https://localhost:8080/"
        },
        "id": "_6MINXrjV9id",
        "outputId": "ccf7d6da-2cfe-4eb1-a440-3087c8738c5f"
      },
      "execution_count": 7,
      "outputs": [
        {
          "output_type": "stream",
          "name": "stdout",
          "text": [
            "DFS\n",
            "A B D E F C "
          ]
        }
      ]
    },
    {
      "cell_type": "code",
      "source": [
        "from collections import deque\n",
        "\n",
        "def bfs(graph, start) :\n",
        "  visited = set()\n",
        "  queue = deque([start])\n",
        "  visited.add(start)\n",
        "\n",
        "  while queue :\n",
        "    v = queue.popleft()\n",
        "    print(v,end=\" \")\n",
        "\n",
        "    for neighbor in graph[v] :\n",
        "      if neighbor not in visited :\n",
        "        visited.add(neighbor)\n",
        "        queue.append(neighbor)\n",
        "\n",
        "print(\"BFS\")\n",
        "bfs(graph,\"A\")"
      ],
      "metadata": {
        "colab": {
          "base_uri": "https://localhost:8080/"
        },
        "id": "nwieY52nKqIW",
        "outputId": "7bdf39a2-64be-46a2-81eb-c8396180d0be"
      },
      "execution_count": 5,
      "outputs": [
        {
          "output_type": "stream",
          "name": "stdout",
          "text": [
            "BFS\n",
            "A B C D E F "
          ]
        }
      ]
    },
    {
      "cell_type": "code",
      "source": [
        "from collections import deque\n",
        "\n",
        "def recommend_friend(graph, start) :\n",
        "  visited = set()\n",
        "  queue = deque([(start,0)])\n",
        "\n",
        "  print(f\"\\n{start}의 친구 추천 (2단계) : \")\n",
        "\n",
        "  while queue :\n",
        "    current, depth = queue.popleft()\n",
        "\n",
        "    if current not in visited :\n",
        "      visited.add(current)\n",
        "      if depth == 2 :\n",
        "        print(\"-\",current)\n",
        "      if depth < 2 :\n",
        "        for neighbor in graph[current] :\n",
        "          queue.append((neighbor,depth+1))"
      ],
      "metadata": {
        "id": "gtp-ixDOL-sA"
      },
      "execution_count": 7,
      "outputs": []
    },
    {
      "cell_type": "code",
      "source": [
        "recommend_friend(graph,\"A\")"
      ],
      "metadata": {
        "colab": {
          "base_uri": "https://localhost:8080/"
        },
        "id": "aSVYgX3tMtHq",
        "outputId": "bbcf7613-7efb-4722-f050-1272fb4519de"
      },
      "execution_count": 8,
      "outputs": [
        {
          "output_type": "stream",
          "name": "stdout",
          "text": [
            "\n",
            "A의 친구 추천 (2단계) : \n",
            "- D\n",
            "- E\n",
            "- F\n"
          ]
        }
      ]
    }
  ]
}