{
  "nbformat": 4,
  "nbformat_minor": 0,
  "metadata": {
    "colab": {
      "provenance": [],
      "authorship_tag": "ABX9TyPoPl2ydiCSE8b+igHweUnm",
      "include_colab_link": true
    },
    "kernelspec": {
      "name": "python3",
      "display_name": "Python 3"
    },
    "language_info": {
      "name": "python"
    }
  },
  "cells": [
    {
      "cell_type": "markdown",
      "metadata": {
        "id": "view-in-github",
        "colab_type": "text"
      },
      "source": [
        "<a href=\"https://colab.research.google.com/github/mkodk/LectDM/blob/main/discrete_math03.ipynb\" target=\"_parent\"><img src=\"https://colab.research.google.com/assets/colab-badge.svg\" alt=\"Open In Colab\"/></a>"
      ]
    },
    {
      "cell_type": "code",
      "execution_count": 2,
      "metadata": {
        "colab": {
          "base_uri": "https://localhost:8080/"
        },
        "id": "U8eL3ghY0Mqa",
        "outputId": "0da74d49-0183-4867-d970-d4e295f2fd7d"
      },
      "outputs": [
        {
          "output_type": "stream",
          "name": "stdout",
          "text": [
            "{1, 2, 3}\n",
            "{2, 3}\n",
            "{1, 2, 3, 4}\n",
            "{1}\n"
          ]
        }
      ],
      "source": [
        "s1 = set({1,2,3})\n",
        "print(s1)\n",
        "s2=set({2,3,4})\n",
        "\n",
        "print(s1 & s2)\n",
        "print(s1 | s2)\n",
        "print(s1 - s2)"
      ]
    },
    {
      "cell_type": "code",
      "source": [
        "bankA_customer = set({\"김철수\",\"이영희\",\"박민수\",\"최지우\"})\n",
        "bankB_customer = set({\"이영희\",\"최지우\",\"정우성\",\"한지민\"})\n",
        "\n",
        "print(\"은행 A 고객: \", bankA_customer)\n",
        "print(\"은행 B 고객: \", bankB_customer)\n",
        "\n",
        "total_customers = bankA_customer | bankB_customer\n",
        "print(\"합병 후 전체 고객 : \",total_customers)\n",
        "\n",
        "common_customers = bankA_customer & bankB_customer\n",
        "print(\"공통 고객 : \",common_customers)\n",
        "\n",
        "only_A_customers = bankA_customer - bankB_customer\n",
        "print(\"A 은행에만 있는 고객 \" , only_A_customers)\n",
        "\n",
        "only_B_customers = bankB_customer - bankA_customer\n",
        "print(\"B 은행에만 있는 고객 \" , only_B_customers)"
      ],
      "metadata": {
        "colab": {
          "base_uri": "https://localhost:8080/"
        },
        "id": "WB4cK7qM2u5g",
        "outputId": "df65681f-45ed-4239-a6d7-7ef8dd9672e1"
      },
      "execution_count": 4,
      "outputs": [
        {
          "output_type": "stream",
          "name": "stdout",
          "text": [
            "은행 A 고객:  {'이영희', '김철수', '박민수', '최지우'}\n",
            "은행 B 고객:  {'이영희', '한지민', '정우성', '최지우'}\n",
            "합병 후 전체 고객 :  {'김철수', '최지우', '이영희', '박민수', '한지민', '정우성'}\n",
            "공통 고객 :  {'이영희', '최지우'}\n",
            "A 은행에만 있는 고객  {'김철수', '박민수'}\n",
            "B 은행에만 있는 고객  {'한지민', '정우성'}\n"
          ]
        }
      ]
    },
    {
      "cell_type": "code",
      "source": [
        "import numpy as np\n",
        "\n",
        "faber_castell_colors = {\n",
        "    \"White\" : (255,255,255),\n",
        "    \"Black\" : (0,0,0),\n",
        "    \"Brown\" : (150,75,0),\n",
        "    \"Orange\" : (255,127,0),\n",
        "    \"Red\" : (255,0,0),\n",
        "    \"Yellow\" : (255,255,0),\n",
        "    \"Light Green\" : (0,255,0),\n",
        "    \"Green\" : (0,128,0),\n",
        "    \"Light Blue\" : (0,255,255),\n",
        "    \"Blue\" : (0,0,255),\n",
        "    \"Purple\" : (128,0,128),\n",
        "    \"Pink\" : (255,192,203)\n",
        "}\n",
        "\n",
        "input_color = (120,100,200)\n",
        "\n",
        "def find_nearest_color(input_rgb,color_set):\n",
        "  min_dist = float(\"inf\")\n",
        "  nearest_name = None\n",
        "\n",
        "  for name , rgb in color_set.items():\n",
        "    dist = np.sqrt(sum((a-b)**2 for a,b in zip(input_rgb,rgb)))\n",
        "    if dist < min_dist :\n",
        "      min_dist = dist\n",
        "      nearest_name = name\n",
        "  return nearest_name, color_set[nearest_name]\n",
        "\n",
        "nearest_name,nearest_rgb = find_nearest_color(input_color, faber_castell_colors)\n",
        "\n",
        "print(f\"입력 색상 : {input_color}\")\n",
        "print(f\"가장 가까운 파버카스텔 색상 : {nearest_name},RGB : {nearest_rgb}\")"
      ],
      "metadata": {
        "colab": {
          "base_uri": "https://localhost:8080/"
        },
        "id": "1GT0DnXQ4PjS",
        "outputId": "e52389e4-6af7-4fa9-aacd-948f04a062f7"
      },
      "execution_count": 9,
      "outputs": [
        {
          "output_type": "stream",
          "name": "stdout",
          "text": [
            "입력 색상 : (120, 100, 200)\n",
            "가장 가까운 파버카스텔 색상 : Purple,RGB : (128, 0, 128)\n"
          ]
        }
      ]
    }
  ]
}