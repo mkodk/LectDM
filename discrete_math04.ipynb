{
  "nbformat": 4,
  "nbformat_minor": 0,
  "metadata": {
    "colab": {
      "provenance": [],
      "authorship_tag": "ABX9TyMrgZ+fxgK3NYVduRwZnslF",
      "include_colab_link": true
    },
    "kernelspec": {
      "name": "python3",
      "display_name": "Python 3"
    },
    "language_info": {
      "name": "python"
    }
  },
  "cells": [
    {
      "cell_type": "markdown",
      "metadata": {
        "id": "view-in-github",
        "colab_type": "text"
      },
      "source": [
        "<a href=\"https://colab.research.google.com/github/mkodk/LectDM/blob/main/discrete_math04.ipynb\" target=\"_parent\"><img src=\"https://colab.research.google.com/assets/colab-badge.svg\" alt=\"Open In Colab\"/></a>"
      ]
    },
    {
      "cell_type": "code",
      "execution_count": 1,
      "metadata": {
        "id": "tYjBEZ7hHvVV"
      },
      "outputs": [],
      "source": [
        "import numpy as np\n",
        "import networkx as nx\n",
        "import matplotlib.pyplot as plt"
      ]
    },
    {
      "cell_type": "code",
      "source": [
        "A = {1,2,3}\n",
        "B = {2,3,4}\n",
        "\n",
        "R = {(1,2),(2,3),(3,2),(3,4)}\n",
        "\n",
        "print(f\"관계 R :{R}\")"
      ],
      "metadata": {
        "colab": {
          "base_uri": "https://localhost:8080/"
        },
        "id": "BdquQMunH7Wr",
        "outputId": "16144fe7-be00-44e9-db80-7fc3006b1f2e"
      },
      "execution_count": 2,
      "outputs": [
        {
          "output_type": "stream",
          "name": "stdout",
          "text": [
            "관계 R :{(2, 3), (3, 2), (1, 2), (3, 4)}\n"
          ]
        }
      ]
    },
    {
      "cell_type": "code",
      "source": [
        "A_list = sorted(A)\n",
        "B_list = sorted(B)\n",
        "\n",
        "relation_matrix = np.zeros((len(A_list),len(B_list)),dtype=int)\n",
        "\n",
        "for i, a in enumerate(A_list):\n",
        "  for j , b in enumerate(B_list):\n",
        "    if (a,b) in R:\n",
        "      relation_matrix[i,j] = 1\n",
        "\n",
        "print(\"관계 행렬 (rows : A, columns : B)\")\n",
        "print(relation_matrix)"
      ],
      "metadata": {
        "colab": {
          "base_uri": "https://localhost:8080/"
        },
        "id": "XmrFct0YINLy",
        "outputId": "8fbccf6a-2702-4c4e-c5a6-681b5601f0c2"
      },
      "execution_count": 3,
      "outputs": [
        {
          "output_type": "stream",
          "name": "stdout",
          "text": [
            "관계 행렬 (rows : A, columns : B)\n",
            "[[1 0 0]\n",
            " [0 1 0]\n",
            " [1 0 1]]\n"
          ]
        }
      ]
    },
    {
      "cell_type": "code",
      "source": [
        "C = {\"x\",\"y\"}\n",
        "S = {(2,\"x\"),(3,\"y\"),(4,\"x\")}\n",
        "\n",
        "composed_relation = set()\n",
        "\n",
        "for (a,b1) in R:\n",
        "  for (b2,c) in S:\n",
        "    if b1 == b2:\n",
        "      composed_relation.add((a,c))\n",
        "print(f\"\\n합성관계 R S : {composed_relation}\")\n",
        ""
      ],
      "metadata": {
        "colab": {
          "base_uri": "https://localhost:8080/"
        },
        "id": "iZOznD8_JCkE",
        "outputId": "a772edc3-74f4-4a1c-b5c8-ef36c105f771"
      },
      "execution_count": 4,
      "outputs": [
        {
          "output_type": "stream",
          "name": "stdout",
          "text": [
            "\n",
            "합성관계 R S : {(2, 'y'), (3, 'x'), (1, 'x')}\n"
          ]
        }
      ]
    }
  ]
}